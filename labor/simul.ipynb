{
 "cells": [
  {
   "cell_type": "code",
   "execution_count": 13,
   "metadata": {},
   "outputs": [],
   "source": [
    "import econpizza as ep\n",
    "import matplotlib.pyplot as plt"
   ]
  },
  {
   "cell_type": "code",
   "execution_count": 14,
   "metadata": {},
   "outputs": [
    {
     "name": "stdout",
     "output_type": "stream",
     "text": [
      "(load:) Loading cached model.\n"
     ]
    }
   ],
   "source": [
    "model = ep.load('labor.yaml', raise_errors=True, verbose=True)"
   ]
  },
  {
   "cell_type": "code",
   "execution_count": 15,
   "metadata": {},
   "outputs": [
    {
     "name": "stdout",
     "output_type": "stream",
     "text": [
      "(solve_stst:) Steady state already known.\n"
     ]
    }
   ],
   "source": [
    "_ = model.solve_stst()"
   ]
  },
  {
   "cell_type": "code",
   "execution_count": 16,
   "metadata": {},
   "outputs": [
    {
     "data": {
      "text/plain": [
       "{'fixed_values': {'gamma': 2,\n",
       "  'beta': 0.99,\n",
       "  'delta': 0.025,\n",
       "  'alpha': 0.67,\n",
       "  'abar': 1,\n",
       "  'rho': 0.9,\n",
       "  'sigma': 0.01,\n",
       "  'nkbar': '(((1/beta)-1+delta)/((1-alpha)*abar))**(1/(alpha))',\n",
       "  'ykbar': '(((1/beta)-1+delta)/(1-alpha))',\n",
       "  'ckbar': '(((1/beta)-1+delta)/(1-alpha))-delta'},\n",
       " 'init_guesses': {'k': 0.95},\n",
       " 'newton_result': {'success': True,\n",
       "  'message': 'The solution converged.',\n",
       "  'x': Array([2.99760217e-15, 1.48769885e-14, 2.06501483e-14, 1.11022302e-14,\n",
       "         1.57651669e-14], dtype=float64),\n",
       "  'niter': 2,\n",
       "  'fun': Array([ 4.85337945e-15, -1.48547841e-15,  4.98563881e-17,  3.00697143e-14,\n",
       "          2.99760217e-16], dtype=float64),\n",
       "  'jac': Array([[-3.74531835e-01,  3.74531835e-03, -2.50936330e-01,\n",
       "           1.00000000e+00,  0.00000000e+00],\n",
       "         [-1.00000000e+00,  0.00000000e+00, -3.30000000e-01,\n",
       "          -6.70000000e-01,  1.00000000e+00],\n",
       "         [ 0.00000000e+00,  8.13666973e-02,  2.50000000e-02,\n",
       "           0.00000000e+00, -1.06366697e-01],\n",
       "         [-9.91622523e+01,  1.00000000e+00,  3.27235432e+01,\n",
       "          -3.27235432e+01,  0.00000000e+00],\n",
       "         [ 1.00000000e-01,  0.00000000e+00,  0.00000000e+00,\n",
       "           0.00000000e+00,  0.00000000e+00]], dtype=float64),\n",
       "  'det': None,\n",
       "  'initial_values': {'guesses': {'a': 0.95,\n",
       "    'c': 0.95,\n",
       "    'k': 0.95,\n",
       "    'n': 0.95,\n",
       "    'y': 0.95},\n",
       "   'fixed': {'abar': 1,\n",
       "    'alpha': 0.67,\n",
       "    'beta': 0.99,\n",
       "    'ckbar': 0.08136669727578841,\n",
       "    'delta': 0.025,\n",
       "    'gamma': 2,\n",
       "    'nkbar': 0.03527533573729444,\n",
       "    'rho': 0.9,\n",
       "    'sigma': 0.01,\n",
       "    'ykbar': 0.1063666972757884}}},\n",
       " 'values_and_pars': ({'a': Array(2.99760217e-15, dtype=float64),\n",
       "   'c': Array(1.48769885e-14, dtype=float64),\n",
       "   'k': Array(2.06501483e-14, dtype=float64),\n",
       "   'n': Array(1.11022302e-14, dtype=float64),\n",
       "   'y': Array(1.57651669e-14, dtype=float64)},\n",
       "  {'beta': Array(0.99, dtype=float64),\n",
       "   'alpha': Array(0.67, dtype=float64),\n",
       "   'gamma': Array(2., dtype=float64),\n",
       "   'rho': Array(0.9, dtype=float64),\n",
       "   'delta': Array(0.025, dtype=float64),\n",
       "   'sigma': Array(0.01, dtype=float64),\n",
       "   'abar': Array(1., dtype=float64),\n",
       "   'nkbar': Array(0.03527534, dtype=float64),\n",
       "   'ykbar': Array(0.1063667, dtype=float64),\n",
       "   'ckbar': Array(0.0813667, dtype=float64)})}"
      ]
     },
     "execution_count": 16,
     "metadata": {},
     "output_type": "execute_result"
    }
   ],
   "source": [
    "model.steady_state"
   ]
  },
  {
   "cell_type": "code",
   "execution_count": 17,
   "metadata": {},
   "outputs": [
    {
     "name": "stdout",
     "output_type": "stream",
     "text": [
      "    Iteration   1 | max error nan | lapsed 0.0035s\n"
     ]
    },
    {
     "ename": "Exception",
     "evalue": "(find_path:) Stacking FAILED (0.009s). Function returns NaNs. Max. error is nan.",
     "output_type": "error",
     "traceback": [
      "\u001b[0;31m---------------------------------------------------------------------------\u001b[0m",
      "\u001b[0;31mException\u001b[0m                                 Traceback (most recent call last)",
      "Cell \u001b[0;32mIn[17], line 3\u001b[0m\n\u001b[1;32m      1\u001b[0m shk \u001b[38;5;241m=\u001b[39m (\u001b[38;5;124m'\u001b[39m\u001b[38;5;124me_a\u001b[39m\u001b[38;5;124m'\u001b[39m, \u001b[38;5;241m0.01\u001b[39m \u001b[38;5;241m*\u001b[39m\u001b[38;5;241m*\u001b[39m \u001b[38;5;241m2\u001b[39m)\n\u001b[0;32m----> 3\u001b[0m x, flag \u001b[38;5;241m=\u001b[39m \u001b[43mmodel\u001b[49m\u001b[38;5;241;43m.\u001b[39;49m\u001b[43mfind_path\u001b[49m\u001b[43m(\u001b[49m\u001b[43mshock\u001b[49m\u001b[38;5;241;43m=\u001b[39;49m\u001b[43mshk\u001b[49m\u001b[43m)\u001b[49m\n",
      "File \u001b[0;32m~/econ_pizza_macro/venv/lib/python3.11/site-packages/econpizza/solvers/stacking.py:151\u001b[0m, in \u001b[0;36mfind_path_stacking\u001b[0;34m(model, shock, init_state, init_dist, pars, horizon, use_solid_solver, skip_jacobian, verbose, raise_errors, **newton_args)\u001b[0m\n\u001b[1;32m    149\u001b[0m mess \u001b[38;5;241m=\u001b[39m \u001b[38;5;124mf\u001b[39m\u001b[38;5;124m\"\u001b[39m\u001b[38;5;124m(find_path:) Stacking \u001b[39m\u001b[38;5;132;01m{\u001b[39;00mresult\u001b[38;5;132;01m}\u001b[39;00m\u001b[38;5;124m (\u001b[39m\u001b[38;5;132;01m{\u001b[39;00mduration\u001b[38;5;132;01m:\u001b[39;00m\u001b[38;5;124m1.3f\u001b[39m\u001b[38;5;132;01m}\u001b[39;00m\u001b[38;5;124ms). \u001b[39m\u001b[38;5;124m\"\u001b[39m \u001b[38;5;241m+\u001b[39m mess\n\u001b[1;32m    150\u001b[0m \u001b[38;5;28;01mif\u001b[39;00m flag \u001b[38;5;129;01mand\u001b[39;00m raise_errors:\n\u001b[0;32m--> 151\u001b[0m     \u001b[38;5;28;01mraise\u001b[39;00m \u001b[38;5;167;01mException\u001b[39;00m(mess)\n\u001b[1;32m    152\u001b[0m \u001b[38;5;28;01melif\u001b[39;00m verbose:\n\u001b[1;32m    153\u001b[0m     \u001b[38;5;28mprint\u001b[39m(mess)\n",
      "\u001b[0;31mException\u001b[0m: (find_path:) Stacking FAILED (0.009s). Function returns NaNs. Max. error is nan."
     ]
    }
   ],
   "source": [
    "shk = ('e_a', 0.01 ** 2)\n",
    "\n",
    "x, flag = model.find_path(shock=shk)"
   ]
  },
  {
   "cell_type": "code",
   "execution_count": null,
   "metadata": {},
   "outputs": [],
   "source": []
  }
 ],
 "metadata": {
  "kernelspec": {
   "display_name": "venv",
   "language": "python",
   "name": "python3"
  },
  "language_info": {
   "codemirror_mode": {
    "name": "ipython",
    "version": 3
   },
   "file_extension": ".py",
   "mimetype": "text/x-python",
   "name": "python",
   "nbconvert_exporter": "python",
   "pygments_lexer": "ipython3",
   "version": "3.11.5"
  }
 },
 "nbformat": 4,
 "nbformat_minor": 2
}
