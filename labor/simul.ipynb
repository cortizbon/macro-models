{
 "cells": [
  {
   "cell_type": "code",
   "execution_count": 2,
   "metadata": {},
   "outputs": [],
   "source": [
    "import econpizza as ep\n",
    "import matplotlib.pyplot as plt"
   ]
  },
  {
   "cell_type": "code",
   "execution_count": 8,
   "metadata": {},
   "outputs": [
    {
     "name": "stdout",
     "output_type": "stream",
     "text": [
      "(load:) Loading cached model.\n"
     ]
    }
   ],
   "source": [
    "model = ep.load('labor.yaml', raise_errors=True, verbose=True)"
   ]
  },
  {
   "cell_type": "code",
   "execution_count": 9,
   "metadata": {},
   "outputs": [
    {
     "name": "stderr",
     "output_type": "stream",
     "text": [
      "/Users/carlosortiz/econ_pizza_macro/venv/lib/python3.11/site-packages/econpizza/parser/__init__.py:262: FutureWarning: None encountered in jnp.array(); this is currently treated as NaN. In the future this will result in an error.\n",
      "  init_wf = jnp.array(None)\n"
     ]
    },
    {
     "name": "stdout",
     "output_type": "stream",
     "text": [
      "    Iteration   1 | max. error 9.50e-01 | lapsed 0.1931\n",
      "(solve_stst:) Steady state found (0.35785s). The solution converged.\n"
     ]
    }
   ],
   "source": [
    "_ = model.solve_stst()"
   ]
  },
  {
   "cell_type": "code",
   "execution_count": 10,
   "metadata": {},
   "outputs": [
    {
     "data": {
      "text/plain": [
       "{'fixed_values': {'sigma': 1,\n",
       "  'alpha': 0.33,\n",
       "  'phi': 1,\n",
       "  'delta': 0.025,\n",
       "  'beta': 0.99,\n",
       "  'abar': 1,\n",
       "  'rho': 0.9,\n",
       "  'psi': '((1 - beta * (1 - delta)) / (beta * alpha * abar)) ** (1 / (alpha - 1))',\n",
       "  'lbar': '(((1 - alpha) * abar * psi ** alpha) / ((abar * psi ** alpha - delta * psi) ** sigma)) ** (1 / phi + sigma)',\n",
       "  'kbar': 'psi * lbar',\n",
       "  'ybar': 'abar * kbar ** alpha * lbar ** (1 - alpha)',\n",
       "  'cbar': 'ybar - delta * kbar'},\n",
       " 'init_guesses': {'k': 0.95}}"
      ]
     },
     "execution_count": 10,
     "metadata": {},
     "output_type": "execute_result"
    }
   ],
   "source": [
    "model.steady_state"
   ]
  },
  {
   "cell_type": "code",
   "execution_count": 11,
   "metadata": {},
   "outputs": [
    {
     "name": "stderr",
     "output_type": "stream",
     "text": [
      "/Users/carlosortiz/econ_pizza_macro/venv/lib/python3.11/site-packages/econpizza/solvers/stacking.py:83: FutureWarning: None encountered in jnp.array(); this is currently treated as NaN. In the future this will result in an error.\n",
      "  dist0 = jnp.array(init_dist) if init_dist is not None else jnp.array(\n"
     ]
    },
    {
     "name": "stdout",
     "output_type": "stream",
     "text": [
      "    Iteration   1 | max error 1.53e-04 | lapsed 0.3039s\n",
      "    Iteration   2 | max error 6.34e-20 | lapsed 0.3054s\n",
      "(find_path:) Stacking done (0.425s). The solution converged.\n"
     ]
    }
   ],
   "source": [
    "shk = ('e_a', 0.01 ** 2)\n",
    "\n",
    "x, flag = model.find_path(shock=shk)"
   ]
  },
  {
   "cell_type": "code",
   "execution_count": null,
   "metadata": {},
   "outputs": [],
   "source": []
  }
 ],
 "metadata": {
  "kernelspec": {
   "display_name": "venv",
   "language": "python",
   "name": "python3"
  },
  "language_info": {
   "codemirror_mode": {
    "name": "ipython",
    "version": 3
   },
   "file_extension": ".py",
   "mimetype": "text/x-python",
   "name": "python",
   "nbconvert_exporter": "python",
   "pygments_lexer": "ipython3",
   "version": "3.11.5"
  }
 },
 "nbformat": 4,
 "nbformat_minor": 2
}
