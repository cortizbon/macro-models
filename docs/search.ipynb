{
 "cells": [
  {
   "cell_type": "code",
   "execution_count": null,
   "metadata": {},
   "outputs": [
    {
     "name": "stdout",
     "output_type": "stream",
     "text": [
      "    duration       wage  employed\n",
      "0   6.020259   9.574233         1\n",
      "1   0.339194  13.588338         1\n",
      "2  17.323523        NaN         0\n",
      "3   2.462507   6.123968         1\n",
      "4   0.405224   9.179971         1\n"
     ]
    }
   ],
   "source": [
    "import numpy as np\n",
    "import pandas as pd\n",
    "from scipy.stats import lognorm\n",
    "import matplotlib.pyplot as plt\n",
    "from scipy.optimize import minimize\n",
    "from scipy.integrate import quad\n",
    "\n",
    "np.random.seed(42)\n",
    "\n",
    "lambda_true = 0.5\n",
    "mu_true = 2.0\n",
    "sigma_true = 0.4\n",
    "b_true = 0.8\n",
    "rho = 0.05\n",
    "N = 1000\n",
    "censoring_prob = 0.1\n",
    "\n",
    "def solve_rV(lambda_, b, mu, sigma, rho):\n",
    "    w_bar = b\n",
    "    for _ in range(100):\n",
    "        w_vals = np.linspace(w_bar, lognorm.ppf(0.999, s=sigma, scale=np.exp(mu)), 200)\n",
    "        f_vals = lognorm.pdf(w_vals, s=sigma, scale=np.exp(mu))\n",
    "        integrand = (w_vals - w_bar) * f_vals\n",
    "        expected_gain = np.trapz(integrand, w_vals)\n",
    "        w_new = b + (lambda_ / rho) * expected_gain\n",
    "        if np.abs(w_new - w_bar) < 1e-6:\n",
    "            break\n",
    "        w_bar = w_new\n",
    "    return w_bar\n",
    "\n",
    "rV_true = solve_rV(lambda_true, b_true, mu_true, sigma_true, rho)\n",
    "\n",
    "data = []\n",
    "for _ in range(N):\n",
    "    if np.random.rand() < censoring_prob:\n",
    "        t = np.random.uniform(0, 20)\n",
    "        data.append((t, np.nan, 0))  \n",
    "    else:\n",
    "        h = lambda_true * (1 - lognorm.cdf(rV_true, s=sigma_true, scale=np.exp(mu_true)))\n",
    "        t = np.random.exponential(1 / h)\n",
    "        while True:\n",
    "            w = lognorm.rvs(s=sigma_true, scale=np.exp(mu_true))\n",
    "            if w >= rV_true:\n",
    "                break\n",
    "        data.append((t, w, 1))  \n",
    "\n",
    "df = pd.DataFrame(data, columns=['duration', 'wage', 'employed'])\n",
    "print(df.head())"
   ]
  },
  {
   "cell_type": "code",
   "execution_count": null,
   "metadata": {},
   "outputs": [],
   "source": [
    "def solve_rV(lambda_, b, mu, sigma, rho):\n",
    "    w_bar = b\n",
    "    for _ in range(100):\n",
    "        w_vals = np.linspace(w_bar, lognorm.ppf(0.999, s=sigma, scale=np.exp(mu)), 200)\n",
    "        f_vals = lognorm.pdf(w_vals, s=sigma, scale=np.exp(mu))\n",
    "        integrand = (w_vals - w_bar) * f_vals\n",
    "        expected_gain = np.trapz(integrand, w_vals)\n",
    "        w_new = b + (lambda_ / rho) * expected_gain\n",
    "        if np.abs(w_new - w_bar) < 1e-6:\n",
    "            break\n",
    "        w_bar = w_new\n",
    "    return w_bar\n",
    "\n",
    "def neg_log_likelihood(params, df, rho):\n",
    "    lambda_, mu, sigma, b = params\n",
    "    if lambda_ <= 0 or sigma <= 0 or b <= 0:\n",
    "        return np.inf\n",
    "    rV = solve_rV(lambda_, b, mu, sigma, rho)\n",
    "    F_rV = lognorm.cdf(rV, s=sigma, scale=np.exp(mu))\n",
    "    f_rV = lognorm.pdf(df['wage'], s=sigma, scale=np.exp(mu))\n",
    "\n",
    "    hazard = lambda_ * (1 - F_rV)\n",
    "    ll = np.zeros(len(df))\n",
    "\n",
    "    uncensored = df['employed'] == 1\n",
    "    censored = df['employed'] == 0\n",
    "\n",
    "\n",
    "    ll[uncensored] = (\n",
    "        np.log(lambda_) +\n",
    "        np.log(f_rV[uncensored]) -\n",
    "        hazard * df['duration'][uncensored]\n",
    "    )\n",
    "\n",
    "    ll[censored] = - hazard * df['duration'][censored]\n",
    "\n",
    "    return -np.sum(ll)"
   ]
  },
  {
   "cell_type": "code",
   "execution_count": 5,
   "metadata": {},
   "outputs": [
    {
     "name": "stdout",
     "output_type": "stream",
     "text": [
      "Estimated λ: 0.2947\n",
      "Estimated μ: 2.0046\n",
      "Estimated σ: 0.4044\n",
      "Estimated b: 1.2886\n"
     ]
    }
   ],
   "source": [
    "initial_guess = [0.3, 1.5, 0.5, 1.0]\n",
    "bounds = [(1e-4, 2), (0.5, 3), (0.1, 1), (0.1, 2)]\n",
    "\n",
    "res = minimize(neg_log_likelihood, initial_guess, args=(df, rho), bounds=bounds)\n",
    "lambda_hat, mu_hat, sigma_hat, b_hat = res.x\n",
    "\n",
    "print(f\"Estimated λ: {lambda_hat:.4f}\")\n",
    "print(f\"Estimated μ: {mu_hat:.4f}\")\n",
    "print(f\"Estimated σ: {sigma_hat:.4f}\")\n",
    "print(f\"Estimated b: {b_hat:.4f}\")"
   ]
  },
  {
   "cell_type": "code",
   "execution_count": null,
   "metadata": {},
   "outputs": [],
   "source": [
    "def compute_reservation_wage(lambda_hat, b_hat, mu_hat, sigma_hat, rho, tol=1e-6, max_iter=100):\n",
    "    rV = b_hat  \n",
    "    for _ in range(max_iter):\n",
    "     \n",
    "        scale = np.exp(mu_hat)\n",
    "        s = sigma_hat\n",
    "\n",
    "\n",
    "        integrand = lambda w: (w - rV) * lognorm.pdf(w, s=s, scale=scale)\n",
    "\n",
    "        upper = lognorm.ppf(0.999, s=s, scale=scale)\n",
    "        expected_gain, _ = quad(integrand, rV, upper)\n",
    "\n",
    "        rV_new = b_hat + (lambda_hat / rho) * expected_gain\n",
    "\n",
    "        if abs(rV_new - rV) < tol:\n",
    "            return rV_new\n",
    "        rV = rV_new\n",
    "\n",
    "    print(\"Warning: Reservation wage did not converge.\")\n",
    "    return rV"
   ]
  },
  {
   "cell_type": "code",
   "execution_count": 7,
   "metadata": {},
   "outputs": [
    {
     "name": "stdout",
     "output_type": "stream",
     "text": [
      "Warning: Reservation wage did not converge.\n",
      "Estimated reservation wage: 1.3565\n"
     ]
    }
   ],
   "source": [
    "lambda_hat, mu_hat, sigma_hat, b_hat = res.x\n",
    "\n",
    "rV_hat = compute_reservation_wage(lambda_hat, b_hat, mu_hat, sigma_hat, rho, max_iter=500)\n",
    "print(f\"Estimated reservation wage: {rV_hat:.4f}\")"
   ]
  },
  {
   "cell_type": "code",
   "execution_count": 11,
   "metadata": {},
   "outputs": [],
   "source": [
    "def experiment_counterfactual(b, lambda_, mu, sigma, rho):\n",
    " \n",
    "    def solve_rV(lambda_, b, mu, sigma, rho, tol=1e-6, max_iter=100):\n",
    "        rV = b\n",
    "        for _ in range(max_iter):\n",
    "            integrand = lambda w: (w - rV) * lognorm.pdf(w, s=sigma, scale=np.exp(mu))\n",
    "            upper = lognorm.ppf(0.999, s=sigma, scale=np.exp(mu))\n",
    "            expected_gain, _ = quad(integrand, rV, upper)\n",
    "            rV_new = b + (lambda_ / rho) * expected_gain\n",
    "            if abs(rV_new - rV) < tol:\n",
    "                return rV_new\n",
    "            rV = rV_new\n",
    "        print(\"Warning: rV did not converge.\")\n",
    "        return rV\n",
    "\n",
    " \n",
    "    rV = solve_rV(lambda_, b, mu, sigma, rho)\n",
    "\n",
    "\n",
    "    F_rV = lognorm.cdf(rV, s=sigma, scale=np.exp(mu))\n",
    "    hazard = lambda_ * (1 - F_rV)\n",
    "\n",
    "\n",
    "    expected_duration = 1 / hazard\n",
    "\n",
    "    return {\n",
    "        \"b\": b,\n",
    "        \"lambda\": lambda_,\n",
    "        \"rV\": rV,\n",
    "        \"hazard\": hazard,\n",
    "        \"expected_duration\": expected_duration\n",
    "    }\n"
   ]
  },
  {
   "cell_type": "code",
   "execution_count": 12,
   "metadata": {},
   "outputs": [
    {
     "name": "stdout",
     "output_type": "stream",
     "text": [
      "Warning: rV did not converge.\n",
      "Warning: rV did not converge.\n",
      "Warning: rV did not converge.\n",
      "              b  lambda     rV  hazard  expected_duration\n",
      "Baseline  1.289   0.295  1.356   0.295              3.393\n",
      "Higher b  1.933   0.295  1.983   0.295              3.395\n",
      "Higher λ  1.289   0.442  1.549   0.442              2.262\n"
     ]
    }
   ],
   "source": [
    "\n",
    "baseline = experiment_counterfactual(b_hat, lambda_hat, mu_hat, sigma_hat, rho)\n",
    "\n",
    "\n",
    "b_high = experiment_counterfactual(b_hat * 1.5, lambda_hat, mu_hat, sigma_hat, rho)\n",
    "\n",
    "\n",
    "lambda_high = experiment_counterfactual(b_hat, lambda_hat * 1.5, mu_hat, sigma_hat, rho)\n",
    "\n",
    "# Compare\n",
    "import pandas as pd\n",
    "experiments_df = pd.DataFrame([baseline, b_high, lambda_high])\n",
    "experiments_df.index = [\"Baseline\", \"Higher b\", \"Higher λ\"]\n",
    "print(experiments_df.round(3))"
   ]
  },
  {
   "cell_type": "code",
   "execution_count": null,
   "metadata": {},
   "outputs": [],
   "source": []
  }
 ],
 "metadata": {
  "kernelspec": {
   "display_name": "venv",
   "language": "python",
   "name": "python3"
  },
  "language_info": {
   "codemirror_mode": {
    "name": "ipython",
    "version": 3
   },
   "file_extension": ".py",
   "mimetype": "text/x-python",
   "name": "python",
   "nbconvert_exporter": "python",
   "pygments_lexer": "ipython3",
   "version": "3.11.5"
  }
 },
 "nbformat": 4,
 "nbformat_minor": 2
}
